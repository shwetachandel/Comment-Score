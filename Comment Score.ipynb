{
 "cells": [
  {
   "cell_type": "code",
   "execution_count": null,
   "metadata": {
    "colab": {
     "base_uri": "https://localhost:8080/",
     "height": 129
    },
    "colab_type": "code",
    "executionInfo": {
     "elapsed": 41982,
     "status": "ok",
     "timestamp": 1550773205590,
     "user": {
      "displayName": "Shweta Chandel",
      "photoUrl": "https://lh6.googleusercontent.com/-8dOdcWMrsxU/AAAAAAAAAAI/AAAAAAAAAgc/u_sD7tFgAF0/s64/photo.jpg",
      "userId": "09447625996723727498"
     },
     "user_tz": -330
    },
    "id": "KcX5JR38U-_z",
    "outputId": "94133d64-c827-43e2-cd81-7969ab7e9747"
   },
   "outputs": [],
   "source": [
    "from google.colab import drive\n",
    "drive.mount('/content/drive/')"
   ]
  },
  {
   "cell_type": "code",
   "execution_count": 0,
   "metadata": {
    "colab": {},
    "colab_type": "code",
    "id": "Q9LrOSz_VnEE"
   },
   "outputs": [],
   "source": [
    "import pandas as pd\n",
    "import re\n",
    "import numpy as np\n",
    "from nltk.corpus import stopwords\n",
    "from sklearn.feature_extraction.text import TfidfVectorizer, CountVectorizer\n",
    "from sklearn.model_selection import train_test_split\n",
    "from sklearn.naive_bayes import MultinomialNB\n",
    "from sklearn.svm import LinearSVR\n",
    "from sklearn.neighbors import KNeighborsRegressor\n",
    "from sklearn.ensemble import RandomForestRegressor, GradientBoostingRegressor, AdaBoostRegressor\n",
    "from xgboost import XGBRegressor\n",
    "from sklearn.metrics import r2_score, mean_squared_error"
   ]
  },
  {
   "cell_type": "code",
   "execution_count": 0,
   "metadata": {
    "colab": {},
    "colab_type": "code",
    "id": "9cYNp_m5WHpX"
   },
   "outputs": [],
   "source": [
    "train = pd.read_csv('/content/drive/My Drive/Colab Notebooks/Comment Score/train.csv')\n",
    "test = pd.read_csv('/content/drive/My Drive/Colab Notebooks/Comment Score/test.csv')\n",
    "submission = pd.read_csv('/content/drive/My Drive/Colab Notebooks/Comment Score/sample_submission.csv')"
   ]
  },
  {
   "cell_type": "code",
   "execution_count": 78,
   "metadata": {
    "colab": {
     "base_uri": "https://localhost:8080/",
     "height": 146
    },
    "colab_type": "code",
    "executionInfo": {
     "elapsed": 2019,
     "status": "ok",
     "timestamp": 1550774905147,
     "user": {
      "displayName": "Shweta Chandel",
      "photoUrl": "https://lh6.googleusercontent.com/-8dOdcWMrsxU/AAAAAAAAAAI/AAAAAAAAAgc/u_sD7tFgAF0/s64/photo.jpg",
      "userId": "09447625996723727498"
     },
     "user_tz": -330
    },
    "id": "ld4YFpvvfBBV",
    "outputId": "1a932c64-48ff-41a5-ff42-d8c80ad7791b"
   },
   "outputs": [
    {
     "name": "stdout",
     "output_type": "stream",
     "text": [
      "[nltk_data] Downloading package stopwords to /root/nltk_data...\n",
      "[nltk_data]   Package stopwords is already up-to-date!\n",
      "[nltk_data] Downloading package punkt to /root/nltk_data...\n",
      "[nltk_data]   Package punkt is already up-to-date!\n",
      "[nltk_data] Downloading package wordnet to /root/nltk_data...\n",
      "[nltk_data]   Package wordnet is already up-to-date!\n"
     ]
    },
    {
     "data": {
      "text/plain": [
       "True"
      ]
     },
     "execution_count": 78,
     "metadata": {
      "tags": []
     },
     "output_type": "execute_result"
    }
   ],
   "source": [
    "import nltk\n",
    "nltk.download('stopwords')\n",
    "nltk.download('punkt')\n",
    "nltk.download('wordnet')"
   ]
  },
  {
   "cell_type": "code",
   "execution_count": 79,
   "metadata": {
    "colab": {
     "base_uri": "https://localhost:8080/",
     "height": 206
    },
    "colab_type": "code",
    "executionInfo": {
     "elapsed": 1511,
     "status": "ok",
     "timestamp": 1550774905150,
     "user": {
      "displayName": "Shweta Chandel",
      "photoUrl": "https://lh6.googleusercontent.com/-8dOdcWMrsxU/AAAAAAAAAAI/AAAAAAAAAgc/u_sD7tFgAF0/s64/photo.jpg",
      "userId": "09447625996723727498"
     },
     "user_tz": -330
    },
    "id": "Zo0JeaaNW_e-",
    "outputId": "896af1a6-d18b-4dd8-a526-55a72d7e53f7"
   },
   "outputs": [
    {
     "data": {
      "text/html": [
       "<div>\n",
       "<style scoped>\n",
       "    .dataframe tbody tr th:only-of-type {\n",
       "        vertical-align: middle;\n",
       "    }\n",
       "\n",
       "    .dataframe tbody tr th {\n",
       "        vertical-align: top;\n",
       "    }\n",
       "\n",
       "    .dataframe thead th {\n",
       "        text-align: right;\n",
       "    }\n",
       "</style>\n",
       "<table border=\"1\" class=\"dataframe\">\n",
       "  <thead>\n",
       "    <tr style=\"text-align: right;\">\n",
       "      <th></th>\n",
       "      <th>UID</th>\n",
       "      <th>comment</th>\n",
       "      <th>date</th>\n",
       "      <th>parent_comment</th>\n",
       "      <th>score</th>\n",
       "    </tr>\n",
       "  </thead>\n",
       "  <tbody>\n",
       "    <tr>\n",
       "      <th>0</th>\n",
       "      <td>Tr-1</td>\n",
       "      <td>NC and NH.</td>\n",
       "      <td>2016-10</td>\n",
       "      <td>Yeah, I get that argument. At this point, I'd ...</td>\n",
       "      <td>2</td>\n",
       "    </tr>\n",
       "    <tr>\n",
       "      <th>1</th>\n",
       "      <td>Tr-2</td>\n",
       "      <td>You do know west teams play against west teams...</td>\n",
       "      <td>2016-11</td>\n",
       "      <td>The blazers and Mavericks (The wests 5 and 6 s...</td>\n",
       "      <td>-4</td>\n",
       "    </tr>\n",
       "    <tr>\n",
       "      <th>2</th>\n",
       "      <td>Tr-3</td>\n",
       "      <td>They were underdogs earlier today, but since G...</td>\n",
       "      <td>2016-09</td>\n",
       "      <td>They're favored to win.</td>\n",
       "      <td>3</td>\n",
       "    </tr>\n",
       "    <tr>\n",
       "      <th>3</th>\n",
       "      <td>Tr-4</td>\n",
       "      <td>This meme isn't funny none of the \"new york ni...</td>\n",
       "      <td>2016-10</td>\n",
       "      <td>deadass don't kill my buzz</td>\n",
       "      <td>-8</td>\n",
       "    </tr>\n",
       "    <tr>\n",
       "      <th>4</th>\n",
       "      <td>Tr-5</td>\n",
       "      <td>I could use one of those tools.</td>\n",
       "      <td>2016-12</td>\n",
       "      <td>Yep can confirm I saw the tool they use for th...</td>\n",
       "      <td>6</td>\n",
       "    </tr>\n",
       "  </tbody>\n",
       "</table>\n",
       "</div>"
      ],
      "text/plain": [
       "    UID                                            comment     date  \\\n",
       "0  Tr-1                                         NC and NH.  2016-10   \n",
       "1  Tr-2  You do know west teams play against west teams...  2016-11   \n",
       "2  Tr-3  They were underdogs earlier today, but since G...  2016-09   \n",
       "3  Tr-4  This meme isn't funny none of the \"new york ni...  2016-10   \n",
       "4  Tr-5                    I could use one of those tools.  2016-12   \n",
       "\n",
       "                                      parent_comment  score  \n",
       "0  Yeah, I get that argument. At this point, I'd ...      2  \n",
       "1  The blazers and Mavericks (The wests 5 and 6 s...     -4  \n",
       "2                            They're favored to win.      3  \n",
       "3                         deadass don't kill my buzz     -8  \n",
       "4  Yep can confirm I saw the tool they use for th...      6  "
      ]
     },
     "execution_count": 79,
     "metadata": {
      "tags": []
     },
     "output_type": "execute_result"
    }
   ],
   "source": [
    "train.head()"
   ]
  },
  {
   "cell_type": "code",
   "execution_count": 80,
   "metadata": {
    "colab": {
     "base_uri": "https://localhost:8080/",
     "height": 201
    },
    "colab_type": "code",
    "executionInfo": {
     "elapsed": 1315,
     "status": "ok",
     "timestamp": 1550774905152,
     "user": {
      "displayName": "Shweta Chandel",
      "photoUrl": "https://lh6.googleusercontent.com/-8dOdcWMrsxU/AAAAAAAAAAI/AAAAAAAAAgc/u_sD7tFgAF0/s64/photo.jpg",
      "userId": "09447625996723727498"
     },
     "user_tz": -330
    },
    "id": "ZCvDEJXRXB3j",
    "outputId": "55c610fe-1e48-4990-c90f-a8a7c4cac202"
   },
   "outputs": [
    {
     "name": "stdout",
     "output_type": "stream",
     "text": [
      "<class 'pandas.core.frame.DataFrame'>\n",
      "RangeIndex: 45000 entries, 0 to 44999\n",
      "Data columns (total 5 columns):\n",
      "UID               45000 non-null object\n",
      "comment           45000 non-null object\n",
      "date              45000 non-null object\n",
      "parent_comment    45000 non-null object\n",
      "score             45000 non-null int64\n",
      "dtypes: int64(1), object(4)\n",
      "memory usage: 1.7+ MB\n"
     ]
    }
   ],
   "source": [
    "train.info()"
   ]
  },
  {
   "cell_type": "code",
   "execution_count": 81,
   "metadata": {
    "colab": {
     "base_uri": "https://localhost:8080/",
     "height": 300
    },
    "colab_type": "code",
    "executionInfo": {
     "elapsed": 1045,
     "status": "ok",
     "timestamp": 1550774905159,
     "user": {
      "displayName": "Shweta Chandel",
      "photoUrl": "https://lh6.googleusercontent.com/-8dOdcWMrsxU/AAAAAAAAAAI/AAAAAAAAAgc/u_sD7tFgAF0/s64/photo.jpg",
      "userId": "09447625996723727498"
     },
     "user_tz": -330
    },
    "id": "Ovp0TZ8IXGcL",
    "outputId": "2262ad44-50c8-477e-9548-94cb1c1dbfe8"
   },
   "outputs": [
    {
     "data": {
      "text/html": [
       "<div>\n",
       "<style scoped>\n",
       "    .dataframe tbody tr th:only-of-type {\n",
       "        vertical-align: middle;\n",
       "    }\n",
       "\n",
       "    .dataframe tbody tr th {\n",
       "        vertical-align: top;\n",
       "    }\n",
       "\n",
       "    .dataframe thead th {\n",
       "        text-align: right;\n",
       "    }\n",
       "</style>\n",
       "<table border=\"1\" class=\"dataframe\">\n",
       "  <thead>\n",
       "    <tr style=\"text-align: right;\">\n",
       "      <th></th>\n",
       "      <th>score</th>\n",
       "    </tr>\n",
       "  </thead>\n",
       "  <tbody>\n",
       "    <tr>\n",
       "      <th>count</th>\n",
       "      <td>45000.000000</td>\n",
       "    </tr>\n",
       "    <tr>\n",
       "      <th>mean</th>\n",
       "      <td>8.133600</td>\n",
       "    </tr>\n",
       "    <tr>\n",
       "      <th>std</th>\n",
       "      <td>47.872248</td>\n",
       "    </tr>\n",
       "    <tr>\n",
       "      <th>min</th>\n",
       "      <td>-188.000000</td>\n",
       "    </tr>\n",
       "    <tr>\n",
       "      <th>25%</th>\n",
       "      <td>1.000000</td>\n",
       "    </tr>\n",
       "    <tr>\n",
       "      <th>50%</th>\n",
       "      <td>2.000000</td>\n",
       "    </tr>\n",
       "    <tr>\n",
       "      <th>75%</th>\n",
       "      <td>5.000000</td>\n",
       "    </tr>\n",
       "    <tr>\n",
       "      <th>max</th>\n",
       "      <td>3192.000000</td>\n",
       "    </tr>\n",
       "  </tbody>\n",
       "</table>\n",
       "</div>"
      ],
      "text/plain": [
       "              score\n",
       "count  45000.000000\n",
       "mean       8.133600\n",
       "std       47.872248\n",
       "min     -188.000000\n",
       "25%        1.000000\n",
       "50%        2.000000\n",
       "75%        5.000000\n",
       "max     3192.000000"
      ]
     },
     "execution_count": 81,
     "metadata": {
      "tags": []
     },
     "output_type": "execute_result"
    }
   ],
   "source": [
    "train.describe()"
   ]
  },
  {
   "cell_type": "code",
   "execution_count": 82,
   "metadata": {
    "colab": {
     "base_uri": "https://localhost:8080/",
     "height": 206
    },
    "colab_type": "code",
    "executionInfo": {
     "elapsed": 1480,
     "status": "ok",
     "timestamp": 1550774905830,
     "user": {
      "displayName": "Shweta Chandel",
      "photoUrl": "https://lh6.googleusercontent.com/-8dOdcWMrsxU/AAAAAAAAAAI/AAAAAAAAAgc/u_sD7tFgAF0/s64/photo.jpg",
      "userId": "09447625996723727498"
     },
     "user_tz": -330
    },
    "id": "bbXZFLB9XQkj",
    "outputId": "111762df-4f21-445a-de83-4bd355195439"
   },
   "outputs": [
    {
     "data": {
      "text/html": [
       "<div>\n",
       "<style scoped>\n",
       "    .dataframe tbody tr th:only-of-type {\n",
       "        vertical-align: middle;\n",
       "    }\n",
       "\n",
       "    .dataframe tbody tr th {\n",
       "        vertical-align: top;\n",
       "    }\n",
       "\n",
       "    .dataframe thead th {\n",
       "        text-align: right;\n",
       "    }\n",
       "</style>\n",
       "<table border=\"1\" class=\"dataframe\">\n",
       "  <thead>\n",
       "    <tr style=\"text-align: right;\">\n",
       "      <th></th>\n",
       "      <th>UID</th>\n",
       "      <th>comment</th>\n",
       "      <th>date</th>\n",
       "      <th>parent_comment</th>\n",
       "    </tr>\n",
       "  </thead>\n",
       "  <tbody>\n",
       "    <tr>\n",
       "      <th>0</th>\n",
       "      <td>Te-1</td>\n",
       "      <td>Brb, gonna farm my homu</td>\n",
       "      <td>2016-10</td>\n",
       "      <td>So now I KNOW I've sold my soul to the Devil...</td>\n",
       "    </tr>\n",
       "    <tr>\n",
       "      <th>1</th>\n",
       "      <td>Te-2</td>\n",
       "      <td>TIL Russia is in Europe</td>\n",
       "      <td>2016-10</td>\n",
       "      <td>The entire CONTINENT of Europe? But arent they...</td>\n",
       "    </tr>\n",
       "    <tr>\n",
       "      <th>2</th>\n",
       "      <td>Te-3</td>\n",
       "      <td>Glad they filmed this with an 8mm.</td>\n",
       "      <td>2016-10</td>\n",
       "      <td>Girl drinks whole beer without using her hands</td>\n",
       "    </tr>\n",
       "    <tr>\n",
       "      <th>3</th>\n",
       "      <td>Te-4</td>\n",
       "      <td>But what about that cinematic feel?</td>\n",
       "      <td>2016-10</td>\n",
       "      <td>MRW someone defends 24 FPS over 60</td>\n",
       "    </tr>\n",
       "    <tr>\n",
       "      <th>4</th>\n",
       "      <td>Te-5</td>\n",
       "      <td>32 spots left as of today.</td>\n",
       "      <td>2016-10</td>\n",
       "      <td>Are there still spots open for this?</td>\n",
       "    </tr>\n",
       "  </tbody>\n",
       "</table>\n",
       "</div>"
      ],
      "text/plain": [
       "    UID                              comment     date  \\\n",
       "0  Te-1              Brb, gonna farm my homu  2016-10   \n",
       "1  Te-2              TIL Russia is in Europe  2016-10   \n",
       "2  Te-3   Glad they filmed this with an 8mm.  2016-10   \n",
       "3  Te-4  But what about that cinematic feel?  2016-10   \n",
       "4  Te-5           32 spots left as of today.  2016-10   \n",
       "\n",
       "                                      parent_comment  \n",
       "0    So now I KNOW I've sold my soul to the Devil...  \n",
       "1  The entire CONTINENT of Europe? But arent they...  \n",
       "2     Girl drinks whole beer without using her hands  \n",
       "3                 MRW someone defends 24 FPS over 60  \n",
       "4               Are there still spots open for this?  "
      ]
     },
     "execution_count": 82,
     "metadata": {
      "tags": []
     },
     "output_type": "execute_result"
    }
   ],
   "source": [
    "test.head()"
   ]
  },
  {
   "cell_type": "code",
   "execution_count": 83,
   "metadata": {
    "colab": {
     "base_uri": "https://localhost:8080/",
     "height": 182
    },
    "colab_type": "code",
    "executionInfo": {
     "elapsed": 899,
     "status": "ok",
     "timestamp": 1550774907524,
     "user": {
      "displayName": "Shweta Chandel",
      "photoUrl": "https://lh6.googleusercontent.com/-8dOdcWMrsxU/AAAAAAAAAAI/AAAAAAAAAgc/u_sD7tFgAF0/s64/photo.jpg",
      "userId": "09447625996723727498"
     },
     "user_tz": -330
    },
    "id": "dsw21t4BghCA",
    "outputId": "15b1656a-4be0-4d6f-eefa-89338f47064f"
   },
   "outputs": [
    {
     "name": "stdout",
     "output_type": "stream",
     "text": [
      "<class 'pandas.core.frame.DataFrame'>\n",
      "RangeIndex: 30000 entries, 0 to 29999\n",
      "Data columns (total 4 columns):\n",
      "UID               30000 non-null object\n",
      "comment           29998 non-null object\n",
      "date              30000 non-null object\n",
      "parent_comment    30000 non-null object\n",
      "dtypes: object(4)\n",
      "memory usage: 937.6+ KB\n"
     ]
    }
   ],
   "source": [
    "test.info()"
   ]
  },
  {
   "cell_type": "code",
   "execution_count": 0,
   "metadata": {
    "colab": {},
    "colab_type": "code",
    "id": "K8RopnLvYwZu"
   },
   "outputs": [],
   "source": [
    "train['text'] = train['comment'] + ' ' + train['parent_comment']\n",
    "test['text'] = test['comment'] + ' ' + test['parent_comment']"
   ]
  },
  {
   "cell_type": "code",
   "execution_count": 0,
   "metadata": {
    "colab": {},
    "colab_type": "code",
    "id": "8B_NVOa8Zp05"
   },
   "outputs": [],
   "source": [
    "stop = set(stopwords.words('english'))\n",
    "stop = [token.lower() for token in stop]\n",
    "train['text'] = train['text'].apply(lambda x: x.replace('   ', ' '))\n",
    "train['text'] = train['text'].apply(lambda x: x.replace('  ', ' '))\n",
    "train['text'] = train['text'].apply(lambda x: x.replace('&lt;', ''))\n",
    "train['text'] = train['text'].apply(lambda x: x.replace('&gt;', ''))\n",
    "train['text'] = train['text'].apply(lambda x: x.replace('<[^<]+?>', ''))\n",
    "train['text'] = train['text'].apply(lambda x: x.replace('\\r\\n', ''))\n",
    "train['text'] = train['text'].apply(lambda x: x.replace('\\r', ''))\n",
    "train['text'] = train['text'].apply(lambda x: x.replace(r\"[^a-zA-Z]+\", ''))\n",
    "train['text'] = train['text'].apply(lambda x: x.replace(('('), ''))\n",
    "train['text'] = train['text'].apply(lambda x: x.replace((')'), ''))\n",
    "train['text'] = train['text'].apply(lambda x: x.replace(('{'), ''))\n",
    "train['text'] = train['text'].apply(lambda x: x.replace(('}'), ''))\n",
    "train['text'] = train['text'].apply(lambda x: x.replace((','), ''))\n",
    "train['text'] = train['text'].apply(lambda x: x.replace(('.'), ''))\n",
    "train['text'] = train['text'].apply(lambda x: x.replace((':'), ''))\n",
    "train['text'] = train['text'].apply(lambda x: x.replace(('\"'), ''))\n",
    "train['text'] = train['text'].apply(lambda x: x.replace(('?'), ''))\n",
    "train['text'] = train['text'].apply(lambda x: re.sub(r'\\b\\d+\\b', '', x))\n",
    "train['text'] = train['text'].apply(lambda x: ' '.join([item.lower() for item in x.split() if item.lower() not in stop]))\n",
    "train['text'] = train['text'].apply(lambda x: ' '.join([item for item in x.split() if len(item)>2]))"
   ]
  },
  {
   "cell_type": "code",
   "execution_count": 0,
   "metadata": {
    "colab": {},
    "colab_type": "code",
    "id": "L_hKzi2NbNvm"
   },
   "outputs": [],
   "source": [
    "test['text'] = test['text'].astype(str).apply(lambda x: x.replace('   ', ' '))\n",
    "test['text'] = test['text'].apply(lambda x: x.replace('  ', ' '))\n",
    "test['text'] = test['text'].apply(lambda x: x.replace('&lt;', ''))\n",
    "test['text'] = test['text'].apply(lambda x: x.replace('&gt;', ''))\n",
    "test['text'] = test['text'].apply(lambda x: x.replace('<[^<]+?>', ''))\n",
    "test['text'] = test['text'].apply(lambda x: x.replace('\\r\\n', ''))\n",
    "test['text'] = test['text'].apply(lambda x: x.replace('\\r', ''))\n",
    "test['text'] = test['text'].apply(lambda x: x.replace(r\"[^a-zA-Z]+\", ''))\n",
    "test['text'] = test['text'].apply(lambda x: x.replace(('('), ''))\n",
    "test['text'] = test['text'].apply(lambda x: x.replace((')'), ''))\n",
    "test['text'] = test['text'].apply(lambda x: x.replace(('{'), ''))\n",
    "test['text'] = test['text'].apply(lambda x: x.replace(('}'), ''))\n",
    "test['text'] = test['text'].apply(lambda x: x.replace((','), ''))\n",
    "test['text'] = test['text'].apply(lambda x: x.replace(('.'), ''))\n",
    "test['text'] = test['text'].apply(lambda x: x.replace((':'), ''))\n",
    "test['text'] = test['text'].apply(lambda x: x.replace(('\"'), ''))\n",
    "test['text'] = test['text'].apply(lambda x: x.replace(('?'), ''))\n",
    "test['text'] = test['text'].apply(lambda x: re.sub(r'\\b\\d+\\b', '', x))\n",
    "test['text'] = test['text'].apply(lambda x: ' '.join([item.lower() for item in x.split() if item.lower() not in stop]))\n",
    "test['text'] = test['text'].apply(lambda x: ' '.join([item for item in x.split() if len(item)>2]))"
   ]
  },
  {
   "cell_type": "code",
   "execution_count": 87,
   "metadata": {
    "colab": {
     "base_uri": "https://localhost:8080/",
     "height": 127
    },
    "colab_type": "code",
    "executionInfo": {
     "elapsed": 7239,
     "status": "ok",
     "timestamp": 1550774916366,
     "user": {
      "displayName": "Shweta Chandel",
      "photoUrl": "https://lh6.googleusercontent.com/-8dOdcWMrsxU/AAAAAAAAAAI/AAAAAAAAAgc/u_sD7tFgAF0/s64/photo.jpg",
      "userId": "09447625996723727498"
     },
     "user_tz": -330
    },
    "id": "IdJ6KxIiex4b",
    "outputId": "f92d7f3c-ab43-46f0-f156-dd059871f254"
   },
   "outputs": [
    {
     "data": {
      "text/plain": [
       "0        brb gonna farm homu know i've sold soul devil\n",
       "1    til russia europe entire continent europe aren...\n",
       "2    glad filmed 8mm girl drinks whole beer without...\n",
       "3               cinematic feel mrw someone defends fps\n",
       "4                    spots left today still spots open\n",
       "Name: text, dtype: object"
      ]
     },
     "execution_count": 87,
     "metadata": {
      "tags": []
     },
     "output_type": "execute_result"
    }
   ],
   "source": [
    "test['text'][:5]"
   ]
  },
  {
   "cell_type": "code",
   "execution_count": 0,
   "metadata": {
    "colab": {},
    "colab_type": "code",
    "id": "Yi2243HZbqaj"
   },
   "outputs": [],
   "source": [
    "vector = CountVectorizer(ngram_range=(1,4), max_features=35)\n",
    "\n",
    "X = vector.fit_transform(train['text'])\n",
    "Xtest = vector.transform(test['text'])\n",
    "y = train['score']"
   ]
  },
  {
   "cell_type": "code",
   "execution_count": 89,
   "metadata": {
    "colab": {
     "base_uri": "https://localhost:8080/",
     "height": 54
    },
    "colab_type": "code",
    "executionInfo": {
     "elapsed": 19350,
     "status": "ok",
     "timestamp": 1550774932706,
     "user": {
      "displayName": "Shweta Chandel",
      "photoUrl": "https://lh6.googleusercontent.com/-8dOdcWMrsxU/AAAAAAAAAAI/AAAAAAAAAgc/u_sD7tFgAF0/s64/photo.jpg",
      "userId": "09447625996723727498"
     },
     "user_tz": -330
    },
    "id": "jPBJa2gWcSvq",
    "outputId": "71c15dd5-5c93-4598-f83e-4270375ae46d"
   },
   "outputs": [
    {
     "name": "stdout",
     "output_type": "stream",
     "text": [
      "r2 score: -0.0013592279444660793\n",
      "rmse 47.47666489221209\n"
     ]
    }
   ],
   "source": [
    "X_train, X_test, y_train, y_test = train_test_split(X, y, test_size=0.2, random_state=42)\n",
    "\n",
    "model = RandomForestRegressor(random_state=0, n_estimators=70, max_depth=2)\n",
    "# model = MultinomialNB(alpha=1)\n",
    "# model = LinearSVR(random_state=42, loss='l1', C=1)\n",
    "model.fit(X_train, y_train)\n",
    "y_pred = model.predict(X_test)\n",
    "print('r2 score:', r2_score(y_test, y_pred))\n",
    "print('rmse', np.sqrt(mean_squared_error(y_test, y_pred)))\n"
   ]
  },
  {
   "cell_type": "code",
   "execution_count": 0,
   "metadata": {
    "colab": {},
    "colab_type": "code",
    "id": "3VULbufSgUUV"
   },
   "outputs": [],
   "source": [
    "model.fit(X, y)\n",
    "yout = model.predict(Xtest)"
   ]
  },
  {
   "cell_type": "code",
   "execution_count": 72,
   "metadata": {
    "colab": {
     "base_uri": "https://localhost:8080/",
     "height": 206
    },
    "colab_type": "code",
    "executionInfo": {
     "elapsed": 882,
     "status": "ok",
     "timestamp": 1550774651089,
     "user": {
      "displayName": "Shweta Chandel",
      "photoUrl": "https://lh6.googleusercontent.com/-8dOdcWMrsxU/AAAAAAAAAAI/AAAAAAAAAgc/u_sD7tFgAF0/s64/photo.jpg",
      "userId": "09447625996723727498"
     },
     "user_tz": -330
    },
    "id": "ilbKQIK7kJtg",
    "outputId": "e8cf3f25-dd31-4d86-e7cc-96a2781c57b5"
   },
   "outputs": [
    {
     "data": {
      "text/html": [
       "<div>\n",
       "<style scoped>\n",
       "    .dataframe tbody tr th:only-of-type {\n",
       "        vertical-align: middle;\n",
       "    }\n",
       "\n",
       "    .dataframe tbody tr th {\n",
       "        vertical-align: top;\n",
       "    }\n",
       "\n",
       "    .dataframe thead th {\n",
       "        text-align: right;\n",
       "    }\n",
       "</style>\n",
       "<table border=\"1\" class=\"dataframe\">\n",
       "  <thead>\n",
       "    <tr style=\"text-align: right;\">\n",
       "      <th></th>\n",
       "      <th>UID</th>\n",
       "      <th>score</th>\n",
       "    </tr>\n",
       "  </thead>\n",
       "  <tbody>\n",
       "    <tr>\n",
       "      <th>0</th>\n",
       "      <td>Te-1</td>\n",
       "      <td>5.973084</td>\n",
       "    </tr>\n",
       "    <tr>\n",
       "      <th>1</th>\n",
       "      <td>Te-2</td>\n",
       "      <td>15.330436</td>\n",
       "    </tr>\n",
       "    <tr>\n",
       "      <th>2</th>\n",
       "      <td>Te-3</td>\n",
       "      <td>5.973084</td>\n",
       "    </tr>\n",
       "    <tr>\n",
       "      <th>3</th>\n",
       "      <td>Te-4</td>\n",
       "      <td>5.973084</td>\n",
       "    </tr>\n",
       "    <tr>\n",
       "      <th>4</th>\n",
       "      <td>Te-5</td>\n",
       "      <td>5.669788</td>\n",
       "    </tr>\n",
       "  </tbody>\n",
       "</table>\n",
       "</div>"
      ],
      "text/plain": [
       "    UID      score\n",
       "0  Te-1   5.973084\n",
       "1  Te-2  15.330436\n",
       "2  Te-3   5.973084\n",
       "3  Te-4   5.973084\n",
       "4  Te-5   5.669788"
      ]
     },
     "execution_count": 72,
     "metadata": {
      "tags": []
     },
     "output_type": "execute_result"
    }
   ],
   "source": [
    "submission.head()"
   ]
  },
  {
   "cell_type": "code",
   "execution_count": 0,
   "metadata": {
    "colab": {},
    "colab_type": "code",
    "id": "f5hPMXfkkEYZ"
   },
   "outputs": [],
   "source": [
    "df = pd.DataFrame()\n",
    "df['UID'] = test['UID']\n",
    "df['score'] = yout\n",
    "df.to_csv('/content/drive/My Drive/Colab Notebooks/Comment Score/submit.csv', index=False)"
   ]
  },
  {
   "cell_type": "code",
   "execution_count": 0,
   "metadata": {
    "colab": {},
    "colab_type": "code",
    "id": "_4YG8lGokfzs"
   },
   "outputs": [],
   "source": []
  }
 ],
 "metadata": {
  "accelerator": "GPU",
  "colab": {
   "collapsed_sections": [],
   "name": "Comment Score.ipynb",
   "provenance": [],
   "version": "0.3.2"
  },
  "kernelspec": {
   "display_name": "Python 3",
   "language": "python",
   "name": "python3"
  },
  "language_info": {
   "codemirror_mode": {
    "name": "ipython",
    "version": 3
   },
   "file_extension": ".py",
   "mimetype": "text/x-python",
   "name": "python",
   "nbconvert_exporter": "python",
   "pygments_lexer": "ipython3",
   "version": "3.6.5"
  }
 },
 "nbformat": 4,
 "nbformat_minor": 1
}
